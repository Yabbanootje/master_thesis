{
  "cells": [
    {
      "cell_type": "markdown",
      "metadata": {
        "id": "BQ_52GTV6jJy"
      },
      "source": [
        "# OmniSafe Tutorial - Getting Started\n",
        "\n",
        "OmniSafe: https://github.com/PKU-Alignment/omnisafe\n",
        "\n",
        "Documentation: https://omnisafe.readthedocs.io/en/latest/\n",
        "\n",
        "Safety-Gymnasium: https://www.safety-gymnasium.com/\n",
        "\n",
        "[Safety-Gymnasium](https://www.safety-gymnasium.com/) is a highly scalable and customizable Safe Reinforcement Learning library, aiming to deliver a good view of benchmarking Safe Reinforcement Learning (Safe RL) algorithms and a more standardized setting of environments.\n",
        "\n",
        "\n",
        "## Introduction\n",
        "\n",
        "In this tutorial, we will present some fundamental applications of OmniSafe. Through clear and comprehensible examples, we aim to enable OmniSafe to promptly and dependably serve users in their research and production tasks. With the introduction of this chapter and the subsequent tutorials, we aspire to assist you in establishing a comprehensive comprehension of the characteristics and design philosophy of OmniSafe.\n"
      ]
    },
    {
      "cell_type": "code",
      "execution_count": 1,
      "metadata": {
        "id": "v8ZS9NZsTBia"
      },
      "outputs": [],
      "source": [
        "# # Install from PyPI. if you already have OmniSafe installed, please ignore the code in this cell.\n",
        "# !pip install omnisafe"
      ]
    },
    {
      "cell_type": "code",
      "execution_count": 2,
      "metadata": {
        "id": "X_QurlxZ0jDh"
      },
      "outputs": [],
      "source": [
        "# # Install OmniSafe and dependencies from source\n",
        "# ## if you already have OmniSafe installed, please ignore the code in this cell.\n",
        "# ## Clone the repo\n",
        "# !git clone https://github.com/PKU-Alignment/omnisafe\n",
        "# %cd omnisafe\n",
        "\n",
        "# ## Install OmniSafe\n",
        "# !pip install -e ."
      ]
    },
    {
      "cell_type": "markdown",
      "metadata": {
        "id": "rnq3f13hNR1V"
      },
      "source": [
        "## Basic Usage Examples"
      ]
    },
    {
      "cell_type": "markdown",
      "metadata": {
        "id": "u1dg7h99Nq83"
      },
      "source": [
        "### Train from default configs\n",
        "\n",
        "By executing four lines of code, we can train a SafeRL agent using PPOLag.\n",
        "\n",
        "During the development process, OmniSafe underwent extensive testing and adjustments. The **default hyperparameters** are designed to achieve the best overall performance across as many benchmark environments as possible with **minimal tuning** and **tricks**. For the initial usage, it is advisable to overlook all the details and indulge in the joy of ready-to-use functionality.\n",
        "\n",
        "With the specification of the environment ID and algorithm, you can promptly commence your SafeRL journey.\n"
      ]
    },
    {
      "cell_type": "code",
      "execution_count": 3,
      "metadata": {
        "id": "cj2GjYy2PqZ_"
      },
      "outputs": [],
      "source": [
        "# import omnisafe\n",
        "\n",
        "\n",
        "# env_id = 'SafetyPointGoal0-v0'\n",
        "\n",
        "# agent = omnisafe.Agent('PPOLag', env_id)\n",
        "# agent.learn()"
      ]
    },
    {
      "cell_type": "markdown",
      "metadata": {
        "id": "fIiALZst13F0"
      },
      "source": [
        "The results of the execution will be automatically saved to the directory where you run the Python script.\n",
        "\n"
      ]
    },
    {
      "cell_type": "markdown",
      "metadata": {
        "id": "F2MZiwk02RWp"
      },
      "source": [
        "### Train from custom dict\n",
        "\n",
        "Hyperparameters in reinforcement learning have a significant impact on performance. After getting a taste of the default settings, you can explore new insights and methods by specifying parameter values through a dictionary when facing specific problems. You can refer to the default parameters and their formats in the GitHub repo [here](https://github.com/PKU-Alignment/omnisafe/tree/main/omnisafe/configs).\n",
        "\n",
        "The following code runs `two epochs` with a total of `2048` interactions and updates the policy every `1024` steps on `SafetyPointGoal1-v0`. The environment and thread parallelism are both set to `1`."
      ]
    },
    {
      "cell_type": "code",
      "execution_count": 4,
      "metadata": {
        "id": "vxbrupSD5cJK"
      },
      "outputs": [
        {
          "name": "stdout",
          "output_type": "stream",
          "text": [
            "Loading TRPO.yaml from c:\\Users\\20192169\\Documents\\GitHub\\master_thesis\\.venv\\lib\\site-packages\\omnisafe\\utils\\..\\configs\\on-policy\\TRPO.yaml\n"
          ]
        },
        {
          "data": {
            "text/html": [
              "<pre style=\"white-space:pre;overflow-x:auto;line-height:normal;font-family:Menlo,'DejaVu Sans Mono',consolas,'Courier New',monospace\"><span style=\"color: #008080; text-decoration-color: #008080; font-weight: bold\">Logging data to .</span><span style=\"color: #800080; text-decoration-color: #800080; font-weight: bold\">/</span><span style=\"color: #ff00ff; text-decoration-color: #ff00ff; font-weight: bold\">runs</span><span style=\"color: #008080; text-decoration-color: #008080; font-weight: bold\">\\TRPO-{SafetyPointGoal1-v0}\\seed-</span><span style=\"color: #008080; text-decoration-color: #008080; font-weight: bold\">000</span><span style=\"color: #008080; text-decoration-color: #008080; font-weight: bold\">-</span><span style=\"color: #008080; text-decoration-color: #008080; font-weight: bold\">2023</span><span style=\"color: #008080; text-decoration-color: #008080; font-weight: bold\">-</span><span style=\"color: #008080; text-decoration-color: #008080; font-weight: bold\">11</span><span style=\"color: #008080; text-decoration-color: #008080; font-weight: bold\">-</span><span style=\"color: #008080; text-decoration-color: #008080; font-weight: bold\">22</span><span style=\"color: #008080; text-decoration-color: #008080; font-weight: bold\">-</span><span style=\"color: #008080; text-decoration-color: #008080; font-weight: bold\">10</span><span style=\"color: #008080; text-decoration-color: #008080; font-weight: bold\">-</span><span style=\"color: #008080; text-decoration-color: #008080; font-weight: bold\">10</span><span style=\"color: #008080; text-decoration-color: #008080; font-weight: bold\">-</span><span style=\"color: #008080; text-decoration-color: #008080; font-weight: bold\">05</span><span style=\"color: #008080; text-decoration-color: #008080; font-weight: bold\">\\progress.csv</span>\n",
              "</pre>\n"
            ],
            "text/plain": [
              "\u001b[1;36mLogging data to .\u001b[0m\u001b[1;35m/\u001b[0m\u001b[1;95mruns\u001b[0m\u001b[1;36m\\TRPO-\u001b[0m\u001b[1;36m{\u001b[0m\u001b[1;36mSafetyPointGoal1-v0\u001b[0m\u001b[1;36m}\u001b[0m\u001b[1;36m\\seed-\u001b[0m\u001b[1;36m000\u001b[0m\u001b[1;36m-\u001b[0m\u001b[1;36m2023\u001b[0m\u001b[1;36m-\u001b[0m\u001b[1;36m11\u001b[0m\u001b[1;36m-\u001b[0m\u001b[1;36m22\u001b[0m\u001b[1;36m-\u001b[0m\u001b[1;36m10\u001b[0m\u001b[1;36m-\u001b[0m\u001b[1;36m10\u001b[0m\u001b[1;36m-\u001b[0m\u001b[1;36m05\u001b[0m\u001b[1;36m\\progress.csv\u001b[0m\n"
            ]
          },
          "metadata": {},
          "output_type": "display_data"
        },
        {
          "data": {
            "text/html": [
              "<pre style=\"white-space:pre;overflow-x:auto;line-height:normal;font-family:Menlo,'DejaVu Sans Mono',consolas,'Courier New',monospace\"><span style=\"color: #808000; text-decoration-color: #808000; font-weight: bold\">Save with config in config.json</span>\n",
              "</pre>\n"
            ],
            "text/plain": [
              "\u001b[1;33mSave with config in config.json\u001b[0m\n"
            ]
          },
          "metadata": {},
          "output_type": "display_data"
        },
        {
          "data": {
            "text/html": [
              "<pre style=\"white-space:pre;overflow-x:auto;line-height:normal;font-family:Menlo,'DejaVu Sans Mono',consolas,'Courier New',monospace\"><span style=\"color: #008000; text-decoration-color: #008000\">INFO: Start training</span>\n",
              "</pre>\n"
            ],
            "text/plain": [
              "\u001b[32mINFO: Start training\u001b[0m\n"
            ]
          },
          "metadata": {},
          "output_type": "display_data"
        },
        {
          "data": {
            "text/html": [
              "<pre style=\"white-space:pre;overflow-x:auto;line-height:normal;font-family:Menlo,'DejaVu Sans Mono',consolas,'Courier New',monospace\">c:\\Users\\20192169\\Documents\\GitHub\\master_thesis\\.venv\\lib\\site-packages\\rich\\live.py:231: UserWarning: install \n",
              "\"ipywidgets\" for Jupyter support\n",
              "  warnings.warn('install \"ipywidgets\" for Jupyter support')\n",
              "</pre>\n"
            ],
            "text/plain": [
              "c:\\Users\\20192169\\Documents\\GitHub\\master_thesis\\.venv\\lib\\site-packages\\rich\\live.py:231: UserWarning: install \n",
              "\"ipywidgets\" for Jupyter support\n",
              "  warnings.warn('install \"ipywidgets\" for Jupyter support')\n"
            ]
          },
          "metadata": {},
          "output_type": "display_data"
        },
        {
          "data": {
            "text/html": [
              "<pre style=\"white-space:pre;overflow-x:auto;line-height:normal;font-family:Menlo,'DejaVu Sans Mono',consolas,'Courier New',monospace\"><span style=\"color: #008000; text-decoration-color: #008000\">Warning: trajectory cut off when rollout by epoch at </span><span style=\"color: #008080; text-decoration-color: #008080; font-weight: bold\">24.0</span><span style=\"color: #008000; text-decoration-color: #008000\"> steps.</span>\n",
              "</pre>\n"
            ],
            "text/plain": [
              "\u001b[32mWarning: trajectory cut off when rollout by epoch at \u001b[0m\u001b[1;36m24.0\u001b[0m\u001b[32m steps.\u001b[0m\n"
            ]
          },
          "metadata": {},
          "output_type": "display_data"
        },
        {
          "data": {
            "text/html": [
              "<pre style=\"white-space:pre;overflow-x:auto;line-height:normal;font-family:Menlo,'DejaVu Sans Mono',consolas,'Courier New',monospace\"></pre>\n"
            ],
            "text/plain": []
          },
          "metadata": {},
          "output_type": "display_data"
        },
        {
          "data": {
            "text/html": [
              "<pre style=\"white-space:pre;overflow-x:auto;line-height:normal;font-family:Menlo,'DejaVu Sans Mono',consolas,'Courier New',monospace\">\n",
              "</pre>\n"
            ],
            "text/plain": [
              "\n"
            ]
          },
          "metadata": {},
          "output_type": "display_data"
        },
        {
          "data": {
            "text/html": [
              "<pre style=\"white-space:pre;overflow-x:auto;line-height:normal;font-family:Menlo,'DejaVu Sans Mono',consolas,'Courier New',monospace\"><span style=\"color: #008000; text-decoration-color: #008000\">Expected Improvement: </span><span style=\"color: #008080; text-decoration-color: #008080; font-weight: bold\">0.041117846965789795</span><span style=\"color: #008000; text-decoration-color: #008000\"> Actual: </span><span style=\"color: #008080; text-decoration-color: #008080; font-weight: bold\">0.04118717834353447</span>\n",
              "</pre>\n"
            ],
            "text/plain": [
              "\u001b[32mExpected Improvement: \u001b[0m\u001b[1;36m0.041117846965789795\u001b[0m\u001b[32m Actual: \u001b[0m\u001b[1;36m0.04118717834353447\u001b[0m\n"
            ]
          },
          "metadata": {},
          "output_type": "display_data"
        },
        {
          "data": {
            "text/html": [
              "<pre style=\"white-space:pre;overflow-x:auto;line-height:normal;font-family:Menlo,'DejaVu Sans Mono',consolas,'Courier New',monospace\"><span style=\"color: #008000; text-decoration-color: #008000\">Accept step at </span><span style=\"color: #808000; text-decoration-color: #808000\">i</span><span style=\"color: #008000; text-decoration-color: #008000\">=</span><span style=\"color: #008080; text-decoration-color: #008080; font-weight: bold\">1</span>\n",
              "</pre>\n"
            ],
            "text/plain": [
              "\u001b[32mAccept step at \u001b[0m\u001b[33mi\u001b[0m\u001b[32m=\u001b[0m\u001b[1;36m1\u001b[0m\n"
            ]
          },
          "metadata": {},
          "output_type": "display_data"
        },
        {
          "data": {
            "text/html": [
              "<pre style=\"white-space:pre;overflow-x:auto;line-height:normal;font-family:Menlo,'DejaVu Sans Mono',consolas,'Courier New',monospace\">┏━━━━━━━━━━━━━━━━━━━━━━━━━━━━━━━┳━━━━━━━━━━━━━━━━━━━━━━━━┓\n",
              "┃<span style=\"font-weight: bold\"> Metrics                       </span>┃<span style=\"font-weight: bold\"> Value                  </span>┃\n",
              "┡━━━━━━━━━━━━━━━━━━━━━━━━━━━━━━━╇━━━━━━━━━━━━━━━━━━━━━━━━┩\n",
              "│ Metrics/EpRet                 │ -0.5794457793235779    │\n",
              "│ Metrics/EpCost                │ 0.0                    │\n",
              "│ Metrics/EpLen                 │ 1000.0                 │\n",
              "│ Train/Epoch                   │ 0.0                    │\n",
              "│ Train/Entropy                 │ 1.4197916984558105     │\n",
              "│ Train/KL                      │ 0.00041727395728230476 │\n",
              "│ Train/StopIter                │ 1.0                    │\n",
              "│ Train/PolicyRatio/Mean        │ 0.99338299036026       │\n",
              "│ Train/PolicyRatio/Min         │ 0.99338299036026       │\n",
              "│ Train/PolicyRatio/Max         │ 0.99338299036026       │\n",
              "│ Train/PolicyRatio/Std         │ 0.004678918514400721   │\n",
              "│ Train/LR                      │ 0.0                    │\n",
              "│ Train/PolicyStd               │ 1.0009702444076538     │\n",
              "│ TotalEnvSteps                 │ 1024.0                 │\n",
              "│ Loss/Loss_pi                  │ -0.027458136901259422  │\n",
              "│ Loss/Loss_pi/Delta            │ -0.027458136901259422  │\n",
              "│ Value/Adv                     │ 1.1059455573558807e-08 │\n",
              "│ Loss/Loss_reward_critic       │ 0.046511225402355194   │\n",
              "│ Loss/Loss_reward_critic/Delta │ 0.046511225402355194   │\n",
              "│ Value/reward                  │ -0.05345749109983444   │\n",
              "│ Time/Total                    │ 5.231149673461914      │\n",
              "│ Time/Rollout                  │ 4.983814239501953      │\n",
              "│ Time/Update                   │ 0.24434447288513184    │\n",
              "│ Time/Epoch                    │ 5.228158950805664      │\n",
              "│ Time/FPS                      │ 195.86245727539062     │\n",
              "│ Misc/Alpha                    │ 0.4865668714046478     │\n",
              "│ Misc/FinalStepNorm            │ 0.24171465635299683    │\n",
              "│ Misc/gradient_norm            │ 0.2630271315574646     │\n",
              "│ Misc/xHx                      │ 0.08447824418544769    │\n",
              "│ Misc/H_inv_g                  │ 0.4967758357524872     │\n",
              "│ Misc/AcceptanceStep           │ 1.0                    │\n",
              "└───────────────────────────────┴────────────────────────┘\n",
              "</pre>\n"
            ],
            "text/plain": [
              "┏━━━━━━━━━━━━━━━━━━━━━━━━━━━━━━━┳━━━━━━━━━━━━━━━━━━━━━━━━┓\n",
              "┃\u001b[1m \u001b[0m\u001b[1mMetrics                      \u001b[0m\u001b[1m \u001b[0m┃\u001b[1m \u001b[0m\u001b[1mValue                 \u001b[0m\u001b[1m \u001b[0m┃\n",
              "┡━━━━━━━━━━━━━━━━━━━━━━━━━━━━━━━╇━━━━━━━━━━━━━━━━━━━━━━━━┩\n",
              "│ Metrics/EpRet                 │ -0.5794457793235779    │\n",
              "│ Metrics/EpCost                │ 0.0                    │\n",
              "│ Metrics/EpLen                 │ 1000.0                 │\n",
              "│ Train/Epoch                   │ 0.0                    │\n",
              "│ Train/Entropy                 │ 1.4197916984558105     │\n",
              "│ Train/KL                      │ 0.00041727395728230476 │\n",
              "│ Train/StopIter                │ 1.0                    │\n",
              "│ Train/PolicyRatio/Mean        │ 0.99338299036026       │\n",
              "│ Train/PolicyRatio/Min         │ 0.99338299036026       │\n",
              "│ Train/PolicyRatio/Max         │ 0.99338299036026       │\n",
              "│ Train/PolicyRatio/Std         │ 0.004678918514400721   │\n",
              "│ Train/LR                      │ 0.0                    │\n",
              "│ Train/PolicyStd               │ 1.0009702444076538     │\n",
              "│ TotalEnvSteps                 │ 1024.0                 │\n",
              "│ Loss/Loss_pi                  │ -0.027458136901259422  │\n",
              "│ Loss/Loss_pi/Delta            │ -0.027458136901259422  │\n",
              "│ Value/Adv                     │ 1.1059455573558807e-08 │\n",
              "│ Loss/Loss_reward_critic       │ 0.046511225402355194   │\n",
              "│ Loss/Loss_reward_critic/Delta │ 0.046511225402355194   │\n",
              "│ Value/reward                  │ -0.05345749109983444   │\n",
              "│ Time/Total                    │ 5.231149673461914      │\n",
              "│ Time/Rollout                  │ 4.983814239501953      │\n",
              "│ Time/Update                   │ 0.24434447288513184    │\n",
              "│ Time/Epoch                    │ 5.228158950805664      │\n",
              "│ Time/FPS                      │ 195.86245727539062     │\n",
              "│ Misc/Alpha                    │ 0.4865668714046478     │\n",
              "│ Misc/FinalStepNorm            │ 0.24171465635299683    │\n",
              "│ Misc/gradient_norm            │ 0.2630271315574646     │\n",
              "│ Misc/xHx                      │ 0.08447824418544769    │\n",
              "│ Misc/H_inv_g                  │ 0.4967758357524872     │\n",
              "│ Misc/AcceptanceStep           │ 1.0                    │\n",
              "└───────────────────────────────┴────────────────────────┘\n"
            ]
          },
          "metadata": {},
          "output_type": "display_data"
        },
        {
          "data": {
            "text/html": [
              "<pre style=\"white-space:pre;overflow-x:auto;line-height:normal;font-family:Menlo,'DejaVu Sans Mono',consolas,'Courier New',monospace\"><span style=\"color: #008000; text-decoration-color: #008000\">Warning: trajectory cut off when rollout by epoch at </span><span style=\"color: #008080; text-decoration-color: #008080; font-weight: bold\">24.0</span><span style=\"color: #008000; text-decoration-color: #008000\"> steps.</span>\n",
              "</pre>\n"
            ],
            "text/plain": [
              "\u001b[32mWarning: trajectory cut off when rollout by epoch at \u001b[0m\u001b[1;36m24.0\u001b[0m\u001b[32m steps.\u001b[0m\n"
            ]
          },
          "metadata": {},
          "output_type": "display_data"
        },
        {
          "data": {
            "text/html": [
              "<pre style=\"white-space:pre;overflow-x:auto;line-height:normal;font-family:Menlo,'DejaVu Sans Mono',consolas,'Courier New',monospace\"></pre>\n"
            ],
            "text/plain": []
          },
          "metadata": {},
          "output_type": "display_data"
        },
        {
          "data": {
            "text/html": [
              "<pre style=\"white-space:pre;overflow-x:auto;line-height:normal;font-family:Menlo,'DejaVu Sans Mono',consolas,'Courier New',monospace\">\n",
              "</pre>\n"
            ],
            "text/plain": [
              "\n"
            ]
          },
          "metadata": {},
          "output_type": "display_data"
        },
        {
          "data": {
            "text/html": [
              "<pre style=\"white-space:pre;overflow-x:auto;line-height:normal;font-family:Menlo,'DejaVu Sans Mono',consolas,'Courier New',monospace\"><span style=\"color: #008000; text-decoration-color: #008000\">Expected Improvement: </span><span style=\"color: #008080; text-decoration-color: #008080; font-weight: bold\">0.031489379703998566</span><span style=\"color: #008000; text-decoration-color: #008000\"> Actual: </span><span style=\"color: #008080; text-decoration-color: #008080; font-weight: bold\">0.028328951448202133</span>\n",
              "</pre>\n"
            ],
            "text/plain": [
              "\u001b[32mExpected Improvement: \u001b[0m\u001b[1;36m0.031489379703998566\u001b[0m\u001b[32m Actual: \u001b[0m\u001b[1;36m0.028328951448202133\u001b[0m\n"
            ]
          },
          "metadata": {},
          "output_type": "display_data"
        },
        {
          "data": {
            "text/html": [
              "<pre style=\"white-space:pre;overflow-x:auto;line-height:normal;font-family:Menlo,'DejaVu Sans Mono',consolas,'Courier New',monospace\"><span style=\"color: #008000; text-decoration-color: #008000\">Accept step at </span><span style=\"color: #808000; text-decoration-color: #808000\">i</span><span style=\"color: #008000; text-decoration-color: #008000\">=</span><span style=\"color: #008080; text-decoration-color: #008080; font-weight: bold\">1</span>\n",
              "</pre>\n"
            ],
            "text/plain": [
              "\u001b[32mAccept step at \u001b[0m\u001b[33mi\u001b[0m\u001b[32m=\u001b[0m\u001b[1;36m1\u001b[0m\n"
            ]
          },
          "metadata": {},
          "output_type": "display_data"
        },
        {
          "data": {
            "text/html": [
              "<pre style=\"white-space:pre;overflow-x:auto;line-height:normal;font-family:Menlo,'DejaVu Sans Mono',consolas,'Courier New',monospace\">┏━━━━━━━━━━━━━━━━━━━━━━━━━━━━━━━┳━━━━━━━━━━━━━━━━━━━━━━━━┓\n",
              "┃<span style=\"font-weight: bold\"> Metrics                       </span>┃<span style=\"font-weight: bold\"> Value                  </span>┃\n",
              "┡━━━━━━━━━━━━━━━━━━━━━━━━━━━━━━━╇━━━━━━━━━━━━━━━━━━━━━━━━┩\n",
              "│ Metrics/EpRet                 │ -2.485649824142456     │\n",
              "│ Metrics/EpCost                │ 0.0                    │\n",
              "│ Metrics/EpLen                 │ 1000.0                 │\n",
              "│ Train/Epoch                   │ 1.0                    │\n",
              "│ Train/Entropy                 │ 1.4233814477920532     │\n",
              "│ Train/KL                      │ 0.00031545074307359755 │\n",
              "│ Train/StopIter                │ 1.0                    │\n",
              "│ Train/PolicyRatio/Mean        │ 0.9993984699249268     │\n",
              "│ Train/PolicyRatio/Min         │ 0.9993984699249268     │\n",
              "│ Train/PolicyRatio/Max         │ 0.9993984699249268     │\n",
              "│ Train/PolicyRatio/Std         │ 0.0004253459919709712  │\n",
              "│ Train/LR                      │ 0.0                    │\n",
              "│ Train/PolicyStd               │ 1.0048223733901978     │\n",
              "│ TotalEnvSteps                 │ 2048.0                 │\n",
              "│ Loss/Loss_pi                  │ -0.018886035308241844  │\n",
              "│ Loss/Loss_pi/Delta            │ 0.008572101593017578   │\n",
              "│ Value/Adv                     │ 6.612390279769897e-08  │\n",
              "│ Loss/Loss_reward_critic       │ 0.04310521483421326    │\n",
              "│ Loss/Loss_reward_critic/Delta │ -0.0034060105681419373 │\n",
              "│ Value/reward                  │ -0.04399526119232178   │\n",
              "│ Time/Total                    │ 10.61296272277832      │\n",
              "│ Time/Rollout                  │ 5.096607208251953      │\n",
              "│ Time/Update                   │ 0.24132227897644043    │\n",
              "│ Time/Epoch                    │ 5.337929725646973      │\n",
              "│ Time/FPS                      │ 191.83468627929688     │\n",
              "│ Misc/Alpha                    │ 0.6354659199714661     │\n",
              "│ Misc/FinalStepNorm            │ 0.27967017889022827    │\n",
              "│ Misc/gradient_norm            │ 0.21163195371627808    │\n",
              "│ Misc/xHx                      │ 0.04952738434076309    │\n",
              "│ Misc/H_inv_g                  │ 0.44010260701179504    │\n",
              "│ Misc/AcceptanceStep           │ 1.0                    │\n",
              "└───────────────────────────────┴────────────────────────┘\n",
              "</pre>\n"
            ],
            "text/plain": [
              "┏━━━━━━━━━━━━━━━━━━━━━━━━━━━━━━━┳━━━━━━━━━━━━━━━━━━━━━━━━┓\n",
              "┃\u001b[1m \u001b[0m\u001b[1mMetrics                      \u001b[0m\u001b[1m \u001b[0m┃\u001b[1m \u001b[0m\u001b[1mValue                 \u001b[0m\u001b[1m \u001b[0m┃\n",
              "┡━━━━━━━━━━━━━━━━━━━━━━━━━━━━━━━╇━━━━━━━━━━━━━━━━━━━━━━━━┩\n",
              "│ Metrics/EpRet                 │ -2.485649824142456     │\n",
              "│ Metrics/EpCost                │ 0.0                    │\n",
              "│ Metrics/EpLen                 │ 1000.0                 │\n",
              "│ Train/Epoch                   │ 1.0                    │\n",
              "│ Train/Entropy                 │ 1.4233814477920532     │\n",
              "│ Train/KL                      │ 0.00031545074307359755 │\n",
              "│ Train/StopIter                │ 1.0                    │\n",
              "│ Train/PolicyRatio/Mean        │ 0.9993984699249268     │\n",
              "│ Train/PolicyRatio/Min         │ 0.9993984699249268     │\n",
              "│ Train/PolicyRatio/Max         │ 0.9993984699249268     │\n",
              "│ Train/PolicyRatio/Std         │ 0.0004253459919709712  │\n",
              "│ Train/LR                      │ 0.0                    │\n",
              "│ Train/PolicyStd               │ 1.0048223733901978     │\n",
              "│ TotalEnvSteps                 │ 2048.0                 │\n",
              "│ Loss/Loss_pi                  │ -0.018886035308241844  │\n",
              "│ Loss/Loss_pi/Delta            │ 0.008572101593017578   │\n",
              "│ Value/Adv                     │ 6.612390279769897e-08  │\n",
              "│ Loss/Loss_reward_critic       │ 0.04310521483421326    │\n",
              "│ Loss/Loss_reward_critic/Delta │ -0.0034060105681419373 │\n",
              "│ Value/reward                  │ -0.04399526119232178   │\n",
              "│ Time/Total                    │ 10.61296272277832      │\n",
              "│ Time/Rollout                  │ 5.096607208251953      │\n",
              "│ Time/Update                   │ 0.24132227897644043    │\n",
              "│ Time/Epoch                    │ 5.337929725646973      │\n",
              "│ Time/FPS                      │ 191.83468627929688     │\n",
              "│ Misc/Alpha                    │ 0.6354659199714661     │\n",
              "│ Misc/FinalStepNorm            │ 0.27967017889022827    │\n",
              "│ Misc/gradient_norm            │ 0.21163195371627808    │\n",
              "│ Misc/xHx                      │ 0.04952738434076309    │\n",
              "│ Misc/H_inv_g                  │ 0.44010260701179504    │\n",
              "│ Misc/AcceptanceStep           │ 1.0                    │\n",
              "└───────────────────────────────┴────────────────────────┘\n"
            ]
          },
          "metadata": {},
          "output_type": "display_data"
        },
        {
          "data": {
            "text/plain": [
              "(-2.485649824142456, 0.0, 1000)"
            ]
          },
          "execution_count": 4,
          "metadata": {},
          "output_type": "execute_result"
        }
      ],
      "source": [
        "import omnisafe\n",
        "\n",
        "\n",
        "env_id = 'SafetyPointGoal1-v0'\n",
        "custom_cfgs = {\n",
        "    'train_cfgs': {\n",
        "        'total_steps': 2048,\n",
        "        'vector_env_nums': 1,\n",
        "        'parallel': 1,\n",
        "    },\n",
        "    'algo_cfgs': {\n",
        "        'steps_per_epoch': 1024,\n",
        "        'update_iters': 1,\n",
        "    },\n",
        "    'logger_cfgs': {\n",
        "        'use_wandb': False,\n",
        "    },\n",
        "}\n",
        "\n",
        "agent = omnisafe.Agent('TRPO', env_id, custom_cfgs=custom_cfgs)\n",
        "agent.learn()"
      ]
    },
    {
      "cell_type": "markdown",
      "metadata": {
        "id": "27tsIfmo7rd9"
      },
      "source": [
        "### Render and evaluate your policy\n",
        "\n",
        "RL has made significant progress in the past, but in the present day, we believe that the performance of an algorithm should not be solely evaluated by the accumulated reward of the agent. Instead, more emphasis should be placed on whether the learning of the agent results in meaningful behavior, especially when safe factors are taken into consideration. It is crucial to assess whether the agent can actually produce decision sequences with safety constraints.\n",
        "\n",
        "Therefore, OmniSafe supports fast rendering and evaluation of policy models. After training is complete, you can easily visualize the results and complete a one-stop workflow in OmniSafe, saving valuable time."
      ]
    },
    {
      "cell_type": "markdown",
      "metadata": {
        "id": "BUkkson3Co65"
      },
      "source": [
        "The following line of code will plot the training curve of the agent that has been trained above, displaying the changes of reward and cost over the course of the entire training process with respect to the number of interactions."
      ]
    },
    {
      "cell_type": "code",
      "execution_count": 5,
      "metadata": {
        "id": "w8_WGipx-lA0"
      },
      "outputs": [
        {
          "name": "stdout",
          "output_type": "stream",
          "text": [
            "Plotting from...\n",
            "==================================================\n",
            "\n",
            "./runs\\TRPO-{SafetyPointGoal1-v0}\\seed-000-2023-11-22-10-10-05\n",
            "\n",
            "==================================================\n"
          ]
        },
        {
          "data": {
            "image/png": "[encoded data removed]",
            "text/plain": [
              "<Figure size 1500x500 with 2 Axes>"
            ]
          },
          "metadata": {},
          "output_type": "display_data"
        }
      ],
      "source": [
        "agent.plot(smooth=1)"
      ]
    },
    {
      "cell_type": "markdown",
      "metadata": {
        "id": "o0SDM8tkC2bx"
      },
      "source": [
        "After reviewing the training curve, whether you are satisfied or disappointed with the results, you must be eager to understand the behavior that led to such a curve. Therefore, OmniSafe supports the entire workflow from training to visualization and data analysis."
      ]
    },
    {
      "cell_type": "markdown",
      "metadata": {
        "id": "gxX84UBkXZ7i"
      },
      "source": [
        "Running visualization on cloud containers necessitates some additional dependencies."
      ]
    },
    {
      "cell_type": "code",
      "execution_count": 17,
      "metadata": {
        "id": "QuIAV2k7rUzu"
      },
      "outputs": [
        {
          "name": "stdout",
          "output_type": "stream",
          "text": [
            "Couldn't find program: 'bash'\n"
          ]
        }
      ],
      "source": [
        "%%bash\n",
        "apt-get install libosmesa6-dev\n",
        "apt-get install python3-opengl"
      ]
    },
    {
      "cell_type": "code",
      "execution_count": 7,
      "metadata": {
        "id": "SWbnhykqZTO1"
      },
      "outputs": [
        {
          "name": "stdout",
          "output_type": "stream",
          "text": [
            "env: MUJOCO_GL=osmesa\n",
            "env: PYOPENGL_PLATFORM=osmesa\n"
          ]
        }
      ],
      "source": [
        "%env MUJOCO_GL=osmesa\n",
        "%env PYOPENGL_PLATFORM=osmesa"
      ]
    },
    {
      "cell_type": "code",
      "execution_count": 18,
      "metadata": {
        "id": "bPSz0C8CDApD"
      },
      "outputs": [
        {
          "name": "stdout",
          "output_type": "stream",
          "text": [
            "\n",
            "##################################################\n",
            "\n",
            "Saving the replay video to ./runs\\TRPO-{SafetyPointGoal1-v0}\\seed-000-2023-11-22-10-10-05\\video\\epoch-0,\n",
            " and the result to ./runs\\TRPO-{SafetyPointGoal1-v0}\\seed-000-2023-11-22-10-10-05\\video\\epoch-0\\result.txt.\n",
            "\n",
            "##################################################\n",
            "\n"
          ]
        },
        {
          "ename": "ImportError",
          "evalue": "('Unable to load OpenGL library', \"Could not find module 'OSMesa' (or one of its dependencies). Try using the full path with constructor syntax.\", 'OSMesa', None)",
          "output_type": "error",
          "traceback": [
            "\u001b[1;31m---------------------------------------------------------------------------\u001b[0m",
            "\u001b[1;31mFileNotFoundError\u001b[0m                         Traceback (most recent call last)",
            "File \u001b[1;32mc:\\Users\\20192169\\Documents\\GitHub\\master_thesis\\.venv\\lib\\site-packages\\OpenGL\\platform\\osmesa.py:22\u001b[0m, in \u001b[0;36mOSMesaPlatform.GL\u001b[1;34m(self)\u001b[0m\n\u001b[0;32m     21\u001b[0m \u001b[39mtry\u001b[39;00m:\n\u001b[1;32m---> 22\u001b[0m     \u001b[39mreturn\u001b[39;00m ctypesloader\u001b[39m.\u001b[39;49mloadLibrary(\n\u001b[0;32m     23\u001b[0m         ctypes\u001b[39m.\u001b[39;49mcdll,\n\u001b[0;32m     24\u001b[0m         \u001b[39m'\u001b[39;49m\u001b[39mOSMesa\u001b[39;49m\u001b[39m'\u001b[39;49m, \n\u001b[0;32m     25\u001b[0m         mode\u001b[39m=\u001b[39;49mctypes\u001b[39m.\u001b[39;49mRTLD_GLOBAL \n\u001b[0;32m     26\u001b[0m     ) \n\u001b[0;32m     27\u001b[0m \u001b[39mexcept\u001b[39;00m \u001b[39mOSError\u001b[39;00m \u001b[39mas\u001b[39;00m err:\n",
            "File \u001b[1;32mc:\\Users\\20192169\\Documents\\GitHub\\master_thesis\\.venv\\lib\\site-packages\\OpenGL\\platform\\ctypesloader.py:36\u001b[0m, in \u001b[0;36mloadLibrary\u001b[1;34m(dllType, name, mode)\u001b[0m\n\u001b[0;32m     35\u001b[0m \u001b[39melse\u001b[39;00m:\n\u001b[1;32m---> 36\u001b[0m     \u001b[39mreturn\u001b[39;00m _loadLibraryWindows(dllType, name, mode)\n",
            "File \u001b[1;32mc:\\Users\\20192169\\Documents\\GitHub\\master_thesis\\.venv\\lib\\site-packages\\OpenGL\\platform\\ctypesloader.py:89\u001b[0m, in \u001b[0;36m_loadLibraryWindows\u001b[1;34m(dllType, name, mode)\u001b[0m\n\u001b[0;32m     88\u001b[0m \u001b[39mtry\u001b[39;00m:\n\u001b[1;32m---> 89\u001b[0m     \u001b[39mreturn\u001b[39;00m dllType( name, mode )\n\u001b[0;32m     90\u001b[0m \u001b[39mexcept\u001b[39;00m \u001b[39mException\u001b[39;00m \u001b[39mas\u001b[39;00m err:\n",
            "File \u001b[1;32mC:\\Program Files\\Python310\\lib\\ctypes\\__init__.py:374\u001b[0m, in \u001b[0;36mCDLL.__init__\u001b[1;34m(self, name, mode, handle, use_errno, use_last_error, winmode)\u001b[0m\n\u001b[0;32m    373\u001b[0m \u001b[39mif\u001b[39;00m handle \u001b[39mis\u001b[39;00m \u001b[39mNone\u001b[39;00m:\n\u001b[1;32m--> 374\u001b[0m     \u001b[39mself\u001b[39m\u001b[39m.\u001b[39m_handle \u001b[39m=\u001b[39m _dlopen(\u001b[39mself\u001b[39;49m\u001b[39m.\u001b[39;49m_name, mode)\n\u001b[0;32m    375\u001b[0m \u001b[39melse\u001b[39;00m:\n",
            "\u001b[1;31mFileNotFoundError\u001b[0m: (\"Could not find module 'OSMesa' (or one of its dependencies). Try using the full path with constructor syntax.\", 'OSMesa', None)",
            "\nDuring handling of the above exception, another exception occurred:\n",
            "\u001b[1;31mImportError\u001b[0m                               Traceback (most recent call last)",
            "\u001b[1;32mc:\\Users\\20192169\\Documents\\GitHub\\master_thesis\\tutorial\\1_Getting_Started.ipynb Cell 17\u001b[0m line \u001b[0;36m1\n\u001b[1;32m----> <a href='vscode-notebook-cell:/c%3A/Users/20192169/Documents/GitHub/master_thesis/tutorial/1_Getting_Started.ipynb#X22sZmlsZQ%3D%3D?line=0'>1</a>\u001b[0m agent\u001b[39m.\u001b[39;49mrender(num_episodes\u001b[39m=\u001b[39;49m\u001b[39m1\u001b[39;49m, render_mode\u001b[39m=\u001b[39;49m\u001b[39m'\u001b[39;49m\u001b[39mrgb_array\u001b[39;49m\u001b[39m'\u001b[39;49m, width\u001b[39m=\u001b[39;49m\u001b[39m256\u001b[39;49m, height\u001b[39m=\u001b[39;49m\u001b[39m256\u001b[39;49m)\n",
            "File \u001b[1;32mc:\\Users\\20192169\\Documents\\GitHub\\master_thesis\\.venv\\lib\\site-packages\\omnisafe\\algorithms\\algo_wrapper.py:260\u001b[0m, in \u001b[0;36mAlgoWrapper.render\u001b[1;34m(self, num_episodes, render_mode, camera_name, width, height)\u001b[0m\n\u001b[0;32m    251\u001b[0m     \u001b[39mif\u001b[39;00m item\u001b[39m.\u001b[39mis_file() \u001b[39mand\u001b[39;00m item\u001b[39m.\u001b[39mname\u001b[39m.\u001b[39msplit(\u001b[39m'\u001b[39m\u001b[39m.\u001b[39m\u001b[39m'\u001b[39m)[\u001b[39m-\u001b[39m\u001b[39m1\u001b[39m] \u001b[39m==\u001b[39m \u001b[39m'\u001b[39m\u001b[39mpt\u001b[39m\u001b[39m'\u001b[39m:\n\u001b[0;32m    252\u001b[0m         \u001b[39mself\u001b[39m\u001b[39m.\u001b[39m_evaluator\u001b[39m.\u001b[39mload_saved(\n\u001b[0;32m    253\u001b[0m             save_dir\u001b[39m=\u001b[39m\u001b[39mself\u001b[39m\u001b[39m.\u001b[39magent\u001b[39m.\u001b[39mlogger\u001b[39m.\u001b[39mlog_dir,\n\u001b[0;32m    254\u001b[0m             model_name\u001b[39m=\u001b[39mitem\u001b[39m.\u001b[39mname,\n\u001b[1;32m   (...)\u001b[0m\n\u001b[0;32m    258\u001b[0m             height\u001b[39m=\u001b[39mheight,\n\u001b[0;32m    259\u001b[0m         )\n\u001b[1;32m--> 260\u001b[0m         \u001b[39mself\u001b[39;49m\u001b[39m.\u001b[39;49m_evaluator\u001b[39m.\u001b[39;49mrender(num_episodes\u001b[39m=\u001b[39;49mnum_episodes)\n\u001b[0;32m    261\u001b[0m scan_dir\u001b[39m.\u001b[39mclose()\n",
            "File \u001b[1;32mc:\\Users\\20192169\\Documents\\GitHub\\master_thesis\\.venv\\lib\\site-packages\\omnisafe\\evaluator.py:449\u001b[0m, in \u001b[0;36mEvaluator.render\u001b[1;34m(self, num_episodes, save_replay_path, max_render_steps, cost_criteria)\u001b[0m\n\u001b[0;32m    447\u001b[0m     \u001b[39mself\u001b[39m\u001b[39m.\u001b[39m_env\u001b[39m.\u001b[39mrender()\n\u001b[0;32m    448\u001b[0m \u001b[39melif\u001b[39;00m \u001b[39mself\u001b[39m\u001b[39m.\u001b[39m_render_mode \u001b[39m==\u001b[39m \u001b[39m'\u001b[39m\u001b[39mrgb_array\u001b[39m\u001b[39m'\u001b[39m:\n\u001b[1;32m--> 449\u001b[0m     frames\u001b[39m.\u001b[39mappend(\u001b[39mself\u001b[39;49m\u001b[39m.\u001b[39;49m_env\u001b[39m.\u001b[39;49mrender())\n\u001b[0;32m    451\u001b[0m episode_rewards: \u001b[39mlist\u001b[39m[\u001b[39mfloat\u001b[39m] \u001b[39m=\u001b[39m []\n\u001b[0;32m    452\u001b[0m episode_costs: \u001b[39mlist\u001b[39m[\u001b[39mfloat\u001b[39m] \u001b[39m=\u001b[39m []\n",
            "File \u001b[1;32mc:\\Users\\20192169\\Documents\\GitHub\\master_thesis\\.venv\\lib\\site-packages\\omnisafe\\envs\\core.py:274\u001b[0m, in \u001b[0;36mWrapper.render\u001b[1;34m(self)\u001b[0m\n\u001b[0;32m    267\u001b[0m \u001b[39mdef\u001b[39;00m \u001b[39mrender\u001b[39m(\u001b[39mself\u001b[39m) \u001b[39m-\u001b[39m\u001b[39m>\u001b[39m Any:\n\u001b[0;32m    268\u001b[0m \u001b[39m    \u001b[39m\u001b[39m\"\"\"Compute the render frames as specified by :attr:`render_mode` during the initialization of the environment.\u001b[39;00m\n\u001b[0;32m    269\u001b[0m \n\u001b[0;32m    270\u001b[0m \u001b[39m    Returns:\u001b[39;00m\n\u001b[0;32m    271\u001b[0m \u001b[39m        The render frames, we recommend to use `np.ndarray` which could construct video by\u001b[39;00m\n\u001b[0;32m    272\u001b[0m \u001b[39m        moviepy.\u001b[39;00m\n\u001b[0;32m    273\u001b[0m \u001b[39m    \"\"\"\u001b[39;00m\n\u001b[1;32m--> 274\u001b[0m     \u001b[39mreturn\u001b[39;00m \u001b[39mself\u001b[39;49m\u001b[39m.\u001b[39;49m_env\u001b[39m.\u001b[39;49mrender()\n",
            "File \u001b[1;32mc:\\Users\\20192169\\Documents\\GitHub\\master_thesis\\.venv\\lib\\site-packages\\omnisafe\\envs\\core.py:274\u001b[0m, in \u001b[0;36mWrapper.render\u001b[1;34m(self)\u001b[0m\n\u001b[0;32m    267\u001b[0m \u001b[39mdef\u001b[39;00m \u001b[39mrender\u001b[39m(\u001b[39mself\u001b[39m) \u001b[39m-\u001b[39m\u001b[39m>\u001b[39m Any:\n\u001b[0;32m    268\u001b[0m \u001b[39m    \u001b[39m\u001b[39m\"\"\"Compute the render frames as specified by :attr:`render_mode` during the initialization of the environment.\u001b[39;00m\n\u001b[0;32m    269\u001b[0m \n\u001b[0;32m    270\u001b[0m \u001b[39m    Returns:\u001b[39;00m\n\u001b[0;32m    271\u001b[0m \u001b[39m        The render frames, we recommend to use `np.ndarray` which could construct video by\u001b[39;00m\n\u001b[0;32m    272\u001b[0m \u001b[39m        moviepy.\u001b[39;00m\n\u001b[0;32m    273\u001b[0m \u001b[39m    \"\"\"\u001b[39;00m\n\u001b[1;32m--> 274\u001b[0m     \u001b[39mreturn\u001b[39;00m \u001b[39mself\u001b[39;49m\u001b[39m.\u001b[39;49m_env\u001b[39m.\u001b[39;49mrender()\n",
            "File \u001b[1;32mc:\\Users\\20192169\\Documents\\GitHub\\master_thesis\\.venv\\lib\\site-packages\\omnisafe\\envs\\core.py:274\u001b[0m, in \u001b[0;36mWrapper.render\u001b[1;34m(self)\u001b[0m\n\u001b[0;32m    267\u001b[0m \u001b[39mdef\u001b[39;00m \u001b[39mrender\u001b[39m(\u001b[39mself\u001b[39m) \u001b[39m-\u001b[39m\u001b[39m>\u001b[39m Any:\n\u001b[0;32m    268\u001b[0m \u001b[39m    \u001b[39m\u001b[39m\"\"\"Compute the render frames as specified by :attr:`render_mode` during the initialization of the environment.\u001b[39;00m\n\u001b[0;32m    269\u001b[0m \n\u001b[0;32m    270\u001b[0m \u001b[39m    Returns:\u001b[39;00m\n\u001b[0;32m    271\u001b[0m \u001b[39m        The render frames, we recommend to use `np.ndarray` which could construct video by\u001b[39;00m\n\u001b[0;32m    272\u001b[0m \u001b[39m        moviepy.\u001b[39;00m\n\u001b[0;32m    273\u001b[0m \u001b[39m    \"\"\"\u001b[39;00m\n\u001b[1;32m--> 274\u001b[0m     \u001b[39mreturn\u001b[39;00m \u001b[39mself\u001b[39;49m\u001b[39m.\u001b[39;49m_env\u001b[39m.\u001b[39;49mrender()\n",
            "File \u001b[1;32mc:\\Users\\20192169\\Documents\\GitHub\\master_thesis\\.venv\\lib\\site-packages\\omnisafe\\envs\\safety_gymnasium_env.py:217\u001b[0m, in \u001b[0;36mSafetyGymnasiumEnv.render\u001b[1;34m(self)\u001b[0m\n\u001b[0;32m    211\u001b[0m \u001b[39mdef\u001b[39;00m \u001b[39mrender\u001b[39m(\u001b[39mself\u001b[39m) \u001b[39m-\u001b[39m\u001b[39m>\u001b[39m Any:\n\u001b[0;32m    212\u001b[0m \u001b[39m    \u001b[39m\u001b[39m\"\"\"Render the environment.\u001b[39;00m\n\u001b[0;32m    213\u001b[0m \n\u001b[0;32m    214\u001b[0m \u001b[39m    Returns:\u001b[39;00m\n\u001b[0;32m    215\u001b[0m \u001b[39m        Rendered image.\u001b[39;00m\n\u001b[0;32m    216\u001b[0m \u001b[39m    \"\"\"\u001b[39;00m\n\u001b[1;32m--> 217\u001b[0m     \u001b[39mreturn\u001b[39;00m \u001b[39mself\u001b[39;49m\u001b[39m.\u001b[39;49m_env\u001b[39m.\u001b[39;49mrender()\n",
            "File \u001b[1;32mc:\\Users\\20192169\\Documents\\GitHub\\master_thesis\\.venv\\lib\\site-packages\\gymnasium\\core.py:418\u001b[0m, in \u001b[0;36mWrapper.render\u001b[1;34m(self)\u001b[0m\n\u001b[0;32m    416\u001b[0m \u001b[39mdef\u001b[39;00m \u001b[39mrender\u001b[39m(\u001b[39mself\u001b[39m) \u001b[39m-\u001b[39m\u001b[39m>\u001b[39m RenderFrame \u001b[39m|\u001b[39m \u001b[39mlist\u001b[39m[RenderFrame] \u001b[39m|\u001b[39m \u001b[39mNone\u001b[39;00m:\n\u001b[0;32m    417\u001b[0m \u001b[39m    \u001b[39m\u001b[39m\"\"\"Uses the :meth:`render` of the :attr:`env` that can be overwritten to change the returned data.\"\"\"\u001b[39;00m\n\u001b[1;32m--> 418\u001b[0m     \u001b[39mreturn\u001b[39;00m \u001b[39mself\u001b[39;49m\u001b[39m.\u001b[39;49menv\u001b[39m.\u001b[39;49mrender()\n",
            "File \u001b[1;32mc:\\Users\\20192169\\Documents\\GitHub\\master_thesis\\.venv\\lib\\site-packages\\gymnasium\\core.py:418\u001b[0m, in \u001b[0;36mWrapper.render\u001b[1;34m(self)\u001b[0m\n\u001b[0;32m    416\u001b[0m \u001b[39mdef\u001b[39;00m \u001b[39mrender\u001b[39m(\u001b[39mself\u001b[39m) \u001b[39m-\u001b[39m\u001b[39m>\u001b[39m RenderFrame \u001b[39m|\u001b[39m \u001b[39mlist\u001b[39m[RenderFrame] \u001b[39m|\u001b[39m \u001b[39mNone\u001b[39;00m:\n\u001b[0;32m    417\u001b[0m \u001b[39m    \u001b[39m\u001b[39m\"\"\"Uses the :meth:`render` of the :attr:`env` that can be overwritten to change the returned data.\"\"\"\u001b[39;00m\n\u001b[1;32m--> 418\u001b[0m     \u001b[39mreturn\u001b[39;00m \u001b[39mself\u001b[39;49m\u001b[39m.\u001b[39;49menv\u001b[39m.\u001b[39;49mrender()\n",
            "File \u001b[1;32mc:\\Users\\20192169\\Documents\\GitHub\\master_thesis\\.venv\\lib\\site-packages\\gymnasium\\wrappers\\order_enforcing.py:70\u001b[0m, in \u001b[0;36mOrderEnforcing.render\u001b[1;34m(self, *args, **kwargs)\u001b[0m\n\u001b[0;32m     65\u001b[0m \u001b[39mif\u001b[39;00m \u001b[39mnot\u001b[39;00m \u001b[39mself\u001b[39m\u001b[39m.\u001b[39m_disable_render_order_enforcing \u001b[39mand\u001b[39;00m \u001b[39mnot\u001b[39;00m \u001b[39mself\u001b[39m\u001b[39m.\u001b[39m_has_reset:\n\u001b[0;32m     66\u001b[0m     \u001b[39mraise\u001b[39;00m ResetNeeded(\n\u001b[0;32m     67\u001b[0m         \u001b[39m\"\u001b[39m\u001b[39mCannot call `env.render()` before calling `env.reset()`, if this is a intended action, \u001b[39m\u001b[39m\"\u001b[39m\n\u001b[0;32m     68\u001b[0m         \u001b[39m\"\u001b[39m\u001b[39mset `disable_render_order_enforcing=True` on the OrderEnforcer wrapper.\u001b[39m\u001b[39m\"\u001b[39m\n\u001b[0;32m     69\u001b[0m     )\n\u001b[1;32m---> 70\u001b[0m \u001b[39mreturn\u001b[39;00m \u001b[39mself\u001b[39m\u001b[39m.\u001b[39menv\u001b[39m.\u001b[39mrender(\u001b[39m*\u001b[39margs, \u001b[39m*\u001b[39m\u001b[39m*\u001b[39mkwargs)\n",
            "File \u001b[1;32mc:\\Users\\20192169\\Documents\\GitHub\\master_thesis\\.venv\\lib\\site-packages\\gymnasium\\wrappers\\env_checker.py:63\u001b[0m, in \u001b[0;36mPassiveEnvChecker.render\u001b[1;34m(self, *args, **kwargs)\u001b[0m\n\u001b[0;32m     61\u001b[0m \u001b[39mif\u001b[39;00m \u001b[39mself\u001b[39m\u001b[39m.\u001b[39mchecked_render \u001b[39mis\u001b[39;00m \u001b[39mFalse\u001b[39;00m:\n\u001b[0;32m     62\u001b[0m     \u001b[39mself\u001b[39m\u001b[39m.\u001b[39mchecked_render \u001b[39m=\u001b[39m \u001b[39mTrue\u001b[39;00m\n\u001b[1;32m---> 63\u001b[0m     \u001b[39mreturn\u001b[39;00m env_render_passive_checker(\u001b[39mself\u001b[39m\u001b[39m.\u001b[39menv, \u001b[39m*\u001b[39margs, \u001b[39m*\u001b[39m\u001b[39m*\u001b[39mkwargs)\n\u001b[0;32m     64\u001b[0m \u001b[39melse\u001b[39;00m:\n\u001b[0;32m     65\u001b[0m     \u001b[39mreturn\u001b[39;00m \u001b[39mself\u001b[39m\u001b[39m.\u001b[39menv\u001b[39m.\u001b[39mrender(\u001b[39m*\u001b[39margs, \u001b[39m*\u001b[39m\u001b[39m*\u001b[39mkwargs)\n",
            "File \u001b[1;32mc:\\Users\\20192169\\Documents\\GitHub\\master_thesis\\.venv\\lib\\site-packages\\gymnasium\\utils\\passive_env_checker.py:391\u001b[0m, in \u001b[0;36menv_render_passive_checker\u001b[1;34m(env)\u001b[0m\n\u001b[0;32m    385\u001b[0m     \u001b[39melse\u001b[39;00m:\n\u001b[0;32m    386\u001b[0m         \u001b[39massert\u001b[39;00m env\u001b[39m.\u001b[39mrender_mode \u001b[39mis\u001b[39;00m \u001b[39mNone\u001b[39;00m \u001b[39mor\u001b[39;00m env\u001b[39m.\u001b[39mrender_mode \u001b[39min\u001b[39;00m render_modes, (\n\u001b[0;32m    387\u001b[0m             \u001b[39m\"\u001b[39m\u001b[39mThe environment was initialized successfully however with an unsupported render mode. \u001b[39m\u001b[39m\"\u001b[39m\n\u001b[0;32m    388\u001b[0m             \u001b[39mf\u001b[39m\u001b[39m\"\u001b[39m\u001b[39mRender mode: \u001b[39m\u001b[39m{\u001b[39;00menv\u001b[39m.\u001b[39mrender_mode\u001b[39m}\u001b[39;00m\u001b[39m, modes: \u001b[39m\u001b[39m{\u001b[39;00mrender_modes\u001b[39m}\u001b[39;00m\u001b[39m\"\u001b[39m\n\u001b[0;32m    389\u001b[0m         )\n\u001b[1;32m--> 391\u001b[0m result \u001b[39m=\u001b[39m env\u001b[39m.\u001b[39;49mrender()\n\u001b[0;32m    392\u001b[0m \u001b[39mif\u001b[39;00m env\u001b[39m.\u001b[39mrender_mode \u001b[39mis\u001b[39;00m \u001b[39mnot\u001b[39;00m \u001b[39mNone\u001b[39;00m:\n\u001b[0;32m    393\u001b[0m     _check_render_return(env\u001b[39m.\u001b[39mrender_mode, result)\n",
            "File \u001b[1;32mc:\\Users\\20192169\\Documents\\GitHub\\master_thesis\\.venv\\lib\\site-packages\\safety_gymnasium\\builder.py:317\u001b[0m, in \u001b[0;36mBuilder.render\u001b[1;34m(self)\u001b[0m\n\u001b[0;32m    313\u001b[0m \u001b[39massert\u001b[39;00m \u001b[39mself\u001b[39m\u001b[39m.\u001b[39mrender_parameters\u001b[39m.\u001b[39mmode, \u001b[39m'\u001b[39m\u001b[39mPlease specify the render mode when you make env.\u001b[39m\u001b[39m'\u001b[39m\n\u001b[0;32m    314\u001b[0m \u001b[39massert\u001b[39;00m (\n\u001b[0;32m    315\u001b[0m     \u001b[39mnot\u001b[39;00m \u001b[39mself\u001b[39m\u001b[39m.\u001b[39mtask\u001b[39m.\u001b[39mobserve_vision\n\u001b[0;32m    316\u001b[0m ), \u001b[39m'\u001b[39m\u001b[39mWhen you use vision envs, you should not call this function explicitly.\u001b[39m\u001b[39m'\u001b[39m\n\u001b[1;32m--> 317\u001b[0m \u001b[39mreturn\u001b[39;00m \u001b[39mself\u001b[39m\u001b[39m.\u001b[39mtask\u001b[39m.\u001b[39mrender(cost\u001b[39m=\u001b[39m\u001b[39mself\u001b[39m\u001b[39m.\u001b[39mcost, \u001b[39m*\u001b[39m\u001b[39m*\u001b[39masdict(\u001b[39mself\u001b[39m\u001b[39m.\u001b[39mrender_parameters))\n",
            "File \u001b[1;32mc:\\Users\\20192169\\Documents\\GitHub\\master_thesis\\.venv\\lib\\site-packages\\safety_gymnasium\\bases\\underlying.py:515\u001b[0m, in \u001b[0;36mUnderlying.render\u001b[1;34m(self, width, height, mode, camera_id, camera_name, cost)\u001b[0m\n\u001b[0;32m    507\u001b[0m     \u001b[39mif\u001b[39;00m camera_id \u001b[39mis\u001b[39;00m \u001b[39mNone\u001b[39;00m:\n\u001b[0;32m    508\u001b[0m         \u001b[39m# pylint: disable-next=no-member\u001b[39;00m\n\u001b[0;32m    509\u001b[0m         camera_id \u001b[39m=\u001b[39m mujoco\u001b[39m.\u001b[39mmj_name2id(\n\u001b[0;32m    510\u001b[0m             \u001b[39mself\u001b[39m\u001b[39m.\u001b[39mmodel,\n\u001b[0;32m    511\u001b[0m             mujoco\u001b[39m.\u001b[39mmjtObj\u001b[39m.\u001b[39mmjOBJ_CAMERA,  \u001b[39m# pylint: disable=no-member\u001b[39;00m\n\u001b[0;32m    512\u001b[0m             camera_name,\n\u001b[0;32m    513\u001b[0m         )\n\u001b[1;32m--> 515\u001b[0m \u001b[39mself\u001b[39;49m\u001b[39m.\u001b[39;49m_get_viewer(mode)\n\u001b[0;32m    517\u001b[0m \u001b[39m# Turn all the geom groups on\u001b[39;00m\n\u001b[0;32m    518\u001b[0m \u001b[39mself\u001b[39m\u001b[39m.\u001b[39mviewer\u001b[39m.\u001b[39mvopt\u001b[39m.\u001b[39mgeomgroup[:] \u001b[39m=\u001b[39m \u001b[39m1\u001b[39m\n",
            "File \u001b[1;32mc:\\Users\\20192169\\Documents\\GitHub\\master_thesis\\.venv\\lib\\site-packages\\safety_gymnasium\\bases\\underlying.py:568\u001b[0m, in \u001b[0;36mUnderlying._get_viewer\u001b[1;34m(self, mode)\u001b[0m\n\u001b[0;32m    562\u001b[0m     \u001b[39mself\u001b[39m\u001b[39m.\u001b[39mviewer \u001b[39m=\u001b[39m KeyboardViewer(\n\u001b[0;32m    563\u001b[0m         \u001b[39mself\u001b[39m\u001b[39m.\u001b[39mmodel,\n\u001b[0;32m    564\u001b[0m         \u001b[39mself\u001b[39m\u001b[39m.\u001b[39mdata,\n\u001b[0;32m    565\u001b[0m         \u001b[39mself\u001b[39m\u001b[39m.\u001b[39magent\u001b[39m.\u001b[39mkeyboard_control_callback,\n\u001b[0;32m    566\u001b[0m     )\n\u001b[0;32m    567\u001b[0m \u001b[39melif\u001b[39;00m mode \u001b[39min\u001b[39;00m {\u001b[39m'\u001b[39m\u001b[39mrgb_array\u001b[39m\u001b[39m'\u001b[39m, \u001b[39m'\u001b[39m\u001b[39mdepth_array\u001b[39m\u001b[39m'\u001b[39m}:\n\u001b[1;32m--> 568\u001b[0m     \u001b[39mself\u001b[39m\u001b[39m.\u001b[39mviewer \u001b[39m=\u001b[39m OffScreenViewer(\u001b[39mself\u001b[39;49m\u001b[39m.\u001b[39;49mmodel, \u001b[39mself\u001b[39;49m\u001b[39m.\u001b[39;49mdata)\n\u001b[0;32m    569\u001b[0m \u001b[39melse\u001b[39;00m:\n\u001b[0;32m    570\u001b[0m     \u001b[39mraise\u001b[39;00m \u001b[39mAttributeError\u001b[39;00m(\u001b[39mf\u001b[39m\u001b[39m'\u001b[39m\u001b[39mUnexpected mode: \u001b[39m\u001b[39m{\u001b[39;00mmode\u001b[39m}\u001b[39;00m\u001b[39m'\u001b[39m)\n",
            "File \u001b[1;32mc:\\Users\\20192169\\Documents\\GitHub\\master_thesis\\.venv\\lib\\site-packages\\gymnasium\\envs\\mujoco\\mujoco_rendering.py:142\u001b[0m, in \u001b[0;36mOffScreenViewer.__init__\u001b[1;34m(self, model, data)\u001b[0m\n\u001b[0;32m    139\u001b[0m height \u001b[39m=\u001b[39m model\u001b[39m.\u001b[39mvis\u001b[39m.\u001b[39mglobal_\u001b[39m.\u001b[39moffheight\n\u001b[0;32m    141\u001b[0m \u001b[39m# We must make GLContext before MjrContext\u001b[39;00m\n\u001b[1;32m--> 142\u001b[0m \u001b[39mself\u001b[39;49m\u001b[39m.\u001b[39;49m_get_opengl_backend(width, height)\n\u001b[0;32m    144\u001b[0m \u001b[39msuper\u001b[39m()\u001b[39m.\u001b[39m\u001b[39m__init__\u001b[39m(model, data, width, height)\n\u001b[0;32m    146\u001b[0m \u001b[39mself\u001b[39m\u001b[39m.\u001b[39m_init_camera()\n",
            "File \u001b[1;32mc:\\Users\\20192169\\Documents\\GitHub\\master_thesis\\.venv\\lib\\site-packages\\gymnasium\\envs\\mujoco\\mujoco_rendering.py:159\u001b[0m, in \u001b[0;36mOffScreenViewer._get_opengl_backend\u001b[1;34m(self, width, height)\u001b[0m\n\u001b[0;32m    157\u001b[0m \u001b[39mif\u001b[39;00m \u001b[39mself\u001b[39m\u001b[39m.\u001b[39mbackend \u001b[39mis\u001b[39;00m \u001b[39mnot\u001b[39;00m \u001b[39mNone\u001b[39;00m:\n\u001b[0;32m    158\u001b[0m     \u001b[39mtry\u001b[39;00m:\n\u001b[1;32m--> 159\u001b[0m         \u001b[39mself\u001b[39m\u001b[39m.\u001b[39mopengl_context \u001b[39m=\u001b[39m _ALL_RENDERERS[\u001b[39mself\u001b[39;49m\u001b[39m.\u001b[39;49mbackend](width, height)\n\u001b[0;32m    160\u001b[0m     \u001b[39mexcept\u001b[39;00m \u001b[39mKeyError\u001b[39;00m \u001b[39mas\u001b[39;00m e:\n\u001b[0;32m    161\u001b[0m         \u001b[39mraise\u001b[39;00m \u001b[39mRuntimeError\u001b[39;00m(\n\u001b[0;32m    162\u001b[0m             \u001b[39m\"\u001b[39m\u001b[39mEnvironment variable \u001b[39m\u001b[39m{}\u001b[39;00m\u001b[39m must be one of \u001b[39m\u001b[39m{!r}\u001b[39;00m\u001b[39m: got \u001b[39m\u001b[39m{!r}\u001b[39;00m\u001b[39m.\u001b[39m\u001b[39m\"\u001b[39m\u001b[39m.\u001b[39mformat(\n\u001b[0;32m    163\u001b[0m                 \u001b[39m\"\u001b[39m\u001b[39mMUJOCO_GL\u001b[39m\u001b[39m\"\u001b[39m, _ALL_RENDERERS\u001b[39m.\u001b[39mkeys(), \u001b[39mself\u001b[39m\u001b[39m.\u001b[39mbackend\n\u001b[0;32m    164\u001b[0m             )\n\u001b[0;32m    165\u001b[0m         ) \u001b[39mfrom\u001b[39;00m \u001b[39me\u001b[39;00m\n",
            "File \u001b[1;32mc:\\Users\\20192169\\Documents\\GitHub\\master_thesis\\.venv\\lib\\site-packages\\gymnasium\\envs\\mujoco\\mujoco_rendering.py:25\u001b[0m, in \u001b[0;36m_import_osmesa\u001b[1;34m(width, height)\u001b[0m\n\u001b[0;32m     24\u001b[0m \u001b[39mdef\u001b[39;00m \u001b[39m_import_osmesa\u001b[39m(width, height):\n\u001b[1;32m---> 25\u001b[0m     \u001b[39mfrom\u001b[39;00m \u001b[39mmujoco\u001b[39;00m\u001b[39m.\u001b[39;00m\u001b[39mosmesa\u001b[39;00m \u001b[39mimport\u001b[39;00m GLContext\n\u001b[0;32m     27\u001b[0m     \u001b[39mreturn\u001b[39;00m GLContext(width, height)\n",
            "File \u001b[1;32mc:\\Users\\20192169\\Documents\\GitHub\\master_thesis\\.venv\\lib\\site-packages\\mujoco\\osmesa\\__init__.py:31\u001b[0m\n\u001b[0;32m     24\u001b[0m   \u001b[39mraise\u001b[39;00m \u001b[39mImportError\u001b[39;00m(\n\u001b[0;32m     25\u001b[0m       \u001b[39m'\u001b[39m\u001b[39mCannot use OSMesa rendering platform. \u001b[39m\u001b[39m'\u001b[39m\n\u001b[0;32m     26\u001b[0m       \u001b[39m'\u001b[39m\u001b[39mThe PYOPENGL_PLATFORM environment variable is set to \u001b[39m\u001b[39m{!r}\u001b[39;00m\u001b[39m \u001b[39m\u001b[39m'\u001b[39m\n\u001b[0;32m     27\u001b[0m       \u001b[39m'\u001b[39m\u001b[39m(should be either unset or \u001b[39m\u001b[39m\\'\u001b[39;00m\u001b[39mosmesa\u001b[39m\u001b[39m\\'\u001b[39;00m\u001b[39m).\u001b[39m\u001b[39m'\u001b[39m\n\u001b[0;32m     28\u001b[0m       \u001b[39m.\u001b[39mformat(PYOPENGL_PLATFORM))\n\u001b[0;32m     30\u001b[0m \u001b[39m# pylint: disable=g-import-not-at-top\u001b[39;00m\n\u001b[1;32m---> 31\u001b[0m \u001b[39mfrom\u001b[39;00m \u001b[39mOpenGL\u001b[39;00m \u001b[39mimport\u001b[39;00m GL\n\u001b[0;32m     32\u001b[0m \u001b[39mfrom\u001b[39;00m \u001b[39mOpenGL\u001b[39;00m \u001b[39mimport\u001b[39;00m osmesa\n\u001b[0;32m     33\u001b[0m \u001b[39mfrom\u001b[39;00m \u001b[39mOpenGL\u001b[39;00m\u001b[39m.\u001b[39;00m\u001b[39mGL\u001b[39;00m \u001b[39mimport\u001b[39;00m arrays\n",
            "File \u001b[1;32mc:\\Users\\20192169\\Documents\\GitHub\\master_thesis\\.venv\\lib\\site-packages\\OpenGL\\GL\\__init__.py:3\u001b[0m\n\u001b[0;32m      1\u001b[0m \u001b[39m\"\"\"OpenGL.GL, the core GL library and extensions to it\"\"\"\u001b[39;00m\n\u001b[0;32m      2\u001b[0m \u001b[39m# early import of our modules to prevent import loops...\u001b[39;00m\n\u001b[1;32m----> 3\u001b[0m \u001b[39mfrom\u001b[39;00m \u001b[39mOpenGL\u001b[39;00m \u001b[39mimport\u001b[39;00m error \u001b[39mas\u001b[39;00m _error\n\u001b[0;32m      4\u001b[0m \u001b[39mfrom\u001b[39;00m \u001b[39mOpenGL\u001b[39;00m\u001b[39m.\u001b[39;00m\u001b[39mGL\u001b[39;00m\u001b[39m.\u001b[39;00m\u001b[39mVERSION\u001b[39;00m\u001b[39m.\u001b[39;00m\u001b[39mGL_1_1\u001b[39;00m \u001b[39mimport\u001b[39;00m \u001b[39m*\u001b[39m\n\u001b[0;32m      5\u001b[0m \u001b[39mfrom\u001b[39;00m \u001b[39mOpenGL\u001b[39;00m\u001b[39m.\u001b[39;00m\u001b[39mGL\u001b[39;00m\u001b[39m.\u001b[39;00m\u001b[39mpointers\u001b[39;00m \u001b[39mimport\u001b[39;00m \u001b[39m*\u001b[39m\n",
            "File \u001b[1;32mc:\\Users\\20192169\\Documents\\GitHub\\master_thesis\\.venv\\lib\\site-packages\\OpenGL\\error.py:12\u001b[0m\n\u001b[0;32m     10\u001b[0m \u001b[39mimport\u001b[39;00m \u001b[39mlogging\u001b[39;00m\n\u001b[0;32m     11\u001b[0m _log \u001b[39m=\u001b[39m logging\u001b[39m.\u001b[39mgetLogger( \u001b[39m'\u001b[39m\u001b[39mOpenGL.error\u001b[39m\u001b[39m'\u001b[39m )\n\u001b[1;32m---> 12\u001b[0m \u001b[39mfrom\u001b[39;00m \u001b[39mOpenGL\u001b[39;00m \u001b[39mimport\u001b[39;00m platform, _configflags\n\u001b[0;32m     13\u001b[0m \u001b[39mfrom\u001b[39;00m \u001b[39mctypes\u001b[39;00m \u001b[39mimport\u001b[39;00m ArgumentError\n\u001b[0;32m     14\u001b[0m __all__ \u001b[39m=\u001b[39m (\n\u001b[0;32m     15\u001b[0m     \u001b[39m\"\u001b[39m\u001b[39mError\u001b[39m\u001b[39m\"\u001b[39m,\u001b[39m'\u001b[39m\u001b[39mGLError\u001b[39m\u001b[39m'\u001b[39m,\u001b[39m'\u001b[39m\u001b[39mGLUError\u001b[39m\u001b[39m'\u001b[39m,\u001b[39m'\u001b[39m\u001b[39mGLUTError\u001b[39m\u001b[39m'\u001b[39m,\n\u001b[0;32m     16\u001b[0m     \u001b[39m'\u001b[39m\u001b[39mGLerror\u001b[39m\u001b[39m'\u001b[39m,\u001b[39m'\u001b[39m\u001b[39mGLUerror\u001b[39m\u001b[39m'\u001b[39m,\u001b[39m'\u001b[39m\u001b[39mGLUTerror\u001b[39m\u001b[39m'\u001b[39m,\u001b[39m'\u001b[39m\u001b[39mArgumentError\u001b[39m\u001b[39m'\u001b[39m,\n\u001b[0;32m     17\u001b[0m )\n",
            "File \u001b[1;32mc:\\Users\\20192169\\Documents\\GitHub\\master_thesis\\.venv\\lib\\site-packages\\OpenGL\\platform\\__init__.py:56\u001b[0m\n\u001b[0;32m     53\u001b[0m     plugin\u001b[39m.\u001b[39minstall(\u001b[39mglobals\u001b[39m())\n\u001b[0;32m     54\u001b[0m     \u001b[39mreturn\u001b[39;00m plugin\n\u001b[1;32m---> 56\u001b[0m _load()\n\u001b[0;32m     58\u001b[0m \u001b[39mdef\u001b[39;00m \u001b[39mtypes\u001b[39m(resultType,\u001b[39m*\u001b[39margTypes):\n\u001b[0;32m     59\u001b[0m \u001b[39m    \u001b[39m\u001b[39m\"\"\"Decorator to add returnType, argTypes and argNames to a function\"\"\"\u001b[39;00m\n",
            "File \u001b[1;32mc:\\Users\\20192169\\Documents\\GitHub\\master_thesis\\.venv\\lib\\site-packages\\OpenGL\\platform\\__init__.py:53\u001b[0m, in \u001b[0;36m_load\u001b[1;34m()\u001b[0m\n\u001b[0;32m     50\u001b[0m plugin \u001b[39m=\u001b[39m plugin_class()\n\u001b[0;32m     52\u001b[0m \u001b[39m# install into the platform module's namespace now\u001b[39;00m\n\u001b[1;32m---> 53\u001b[0m plugin\u001b[39m.\u001b[39;49minstall(\u001b[39mglobals\u001b[39;49m())\n\u001b[0;32m     54\u001b[0m \u001b[39mreturn\u001b[39;00m plugin\n",
            "File \u001b[1;32mc:\\Users\\20192169\\Documents\\GitHub\\master_thesis\\.venv\\lib\\site-packages\\OpenGL\\platform\\baseplatform.py:97\u001b[0m, in \u001b[0;36mBasePlatform.install\u001b[1;34m(self, namespace)\u001b[0m\n\u001b[0;32m     95\u001b[0m \u001b[39m\u001b[39m\u001b[39m\"\"\"Install this platform instance into the platform module\"\"\"\u001b[39;00m\n\u001b[0;32m     96\u001b[0m \u001b[39mfor\u001b[39;00m name \u001b[39min\u001b[39;00m \u001b[39mself\u001b[39m\u001b[39m.\u001b[39mEXPORTED_NAMES:\n\u001b[1;32m---> 97\u001b[0m     namespace[ name ] \u001b[39m=\u001b[39m \u001b[39mgetattr\u001b[39;49m(\u001b[39mself\u001b[39;49m,name,\u001b[39mNone\u001b[39;49;00m)\n\u001b[0;32m     98\u001b[0m namespace[\u001b[39m'\u001b[39m\u001b[39mPLATFORM\u001b[39m\u001b[39m'\u001b[39m] \u001b[39m=\u001b[39m \u001b[39mself\u001b[39m\n\u001b[0;32m     99\u001b[0m \u001b[39mreturn\u001b[39;00m \u001b[39mself\u001b[39m\n",
            "File \u001b[1;32mc:\\Users\\20192169\\Documents\\GitHub\\master_thesis\\.venv\\lib\\site-packages\\OpenGL\\platform\\baseplatform.py:15\u001b[0m, in \u001b[0;36mlazy_property.__get__\u001b[1;34m(self, obj, cls)\u001b[0m\n\u001b[0;32m     14\u001b[0m \u001b[39mdef\u001b[39;00m \u001b[39m__get__\u001b[39m( \u001b[39mself\u001b[39m, obj, \u001b[39mcls\u001b[39m ):\n\u001b[1;32m---> 15\u001b[0m     value \u001b[39m=\u001b[39m \u001b[39mself\u001b[39;49m\u001b[39m.\u001b[39;49mfget( obj )\n\u001b[0;32m     16\u001b[0m     \u001b[39msetattr\u001b[39m( obj, \u001b[39mself\u001b[39m\u001b[39m.\u001b[39mfget\u001b[39m.\u001b[39m\u001b[39m__name__\u001b[39m, value)\n\u001b[0;32m     17\u001b[0m     \u001b[39mreturn\u001b[39;00m value\n",
            "File \u001b[1;32mc:\\Users\\20192169\\Documents\\GitHub\\master_thesis\\.venv\\lib\\site-packages\\OpenGL\\platform\\osmesa.py:66\u001b[0m, in \u001b[0;36mOSMesaPlatform.GetCurrentContext\u001b[1;34m(self)\u001b[0m\n\u001b[0;32m     64\u001b[0m \u001b[39m@baseplatform\u001b[39m\u001b[39m.\u001b[39mlazy_property\n\u001b[0;32m     65\u001b[0m \u001b[39mdef\u001b[39;00m \u001b[39mGetCurrentContext\u001b[39m( \u001b[39mself\u001b[39m ):\n\u001b[1;32m---> 66\u001b[0m     function \u001b[39m=\u001b[39m \u001b[39mself\u001b[39;49m\u001b[39m.\u001b[39;49mOSMesa\u001b[39m.\u001b[39mOSMesaGetCurrentContext\n\u001b[0;32m     67\u001b[0m     function\u001b[39m.\u001b[39mrestype \u001b[39m=\u001b[39m _types\u001b[39m.\u001b[39mOSMesaContext\n\u001b[0;32m     68\u001b[0m     \u001b[39mreturn\u001b[39;00m function\n",
            "File \u001b[1;32mc:\\Users\\20192169\\Documents\\GitHub\\master_thesis\\.venv\\lib\\site-packages\\OpenGL\\platform\\baseplatform.py:15\u001b[0m, in \u001b[0;36mlazy_property.__get__\u001b[1;34m(self, obj, cls)\u001b[0m\n\u001b[0;32m     14\u001b[0m \u001b[39mdef\u001b[39;00m \u001b[39m__get__\u001b[39m( \u001b[39mself\u001b[39m, obj, \u001b[39mcls\u001b[39m ):\n\u001b[1;32m---> 15\u001b[0m     value \u001b[39m=\u001b[39m \u001b[39mself\u001b[39;49m\u001b[39m.\u001b[39;49mfget( obj )\n\u001b[0;32m     16\u001b[0m     \u001b[39msetattr\u001b[39m( obj, \u001b[39mself\u001b[39m\u001b[39m.\u001b[39mfget\u001b[39m.\u001b[39m\u001b[39m__name__\u001b[39m, value)\n\u001b[0;32m     17\u001b[0m     \u001b[39mreturn\u001b[39;00m value\n",
            "File \u001b[1;32mc:\\Users\\20192169\\Documents\\GitHub\\master_thesis\\.venv\\lib\\site-packages\\OpenGL\\platform\\osmesa.py:60\u001b[0m, in \u001b[0;36mOSMesaPlatform.OSMesa\u001b[1;34m(self)\u001b[0m\n\u001b[0;32m     59\u001b[0m \u001b[39m@baseplatform\u001b[39m\u001b[39m.\u001b[39mlazy_property\n\u001b[1;32m---> 60\u001b[0m \u001b[39mdef\u001b[39;00m \u001b[39mOSMesa\u001b[39m( \u001b[39mself\u001b[39m ): \u001b[39mreturn\u001b[39;00m \u001b[39mself\u001b[39;49m\u001b[39m.\u001b[39;49mGL\n",
            "File \u001b[1;32mc:\\Users\\20192169\\Documents\\GitHub\\master_thesis\\.venv\\lib\\site-packages\\OpenGL\\platform\\baseplatform.py:15\u001b[0m, in \u001b[0;36mlazy_property.__get__\u001b[1;34m(self, obj, cls)\u001b[0m\n\u001b[0;32m     14\u001b[0m \u001b[39mdef\u001b[39;00m \u001b[39m__get__\u001b[39m( \u001b[39mself\u001b[39m, obj, \u001b[39mcls\u001b[39m ):\n\u001b[1;32m---> 15\u001b[0m     value \u001b[39m=\u001b[39m \u001b[39mself\u001b[39;49m\u001b[39m.\u001b[39;49mfget( obj )\n\u001b[0;32m     16\u001b[0m     \u001b[39msetattr\u001b[39m( obj, \u001b[39mself\u001b[39m\u001b[39m.\u001b[39mfget\u001b[39m.\u001b[39m\u001b[39m__name__\u001b[39m, value)\n\u001b[0;32m     17\u001b[0m     \u001b[39mreturn\u001b[39;00m value\n",
            "File \u001b[1;32mc:\\Users\\20192169\\Documents\\GitHub\\master_thesis\\.venv\\lib\\site-packages\\OpenGL\\platform\\osmesa.py:28\u001b[0m, in \u001b[0;36mOSMesaPlatform.GL\u001b[1;34m(self)\u001b[0m\n\u001b[0;32m     22\u001b[0m     \u001b[39mreturn\u001b[39;00m ctypesloader\u001b[39m.\u001b[39mloadLibrary(\n\u001b[0;32m     23\u001b[0m         ctypes\u001b[39m.\u001b[39mcdll,\n\u001b[0;32m     24\u001b[0m         \u001b[39m'\u001b[39m\u001b[39mOSMesa\u001b[39m\u001b[39m'\u001b[39m, \n\u001b[0;32m     25\u001b[0m         mode\u001b[39m=\u001b[39mctypes\u001b[39m.\u001b[39mRTLD_GLOBAL \n\u001b[0;32m     26\u001b[0m     ) \n\u001b[0;32m     27\u001b[0m \u001b[39mexcept\u001b[39;00m \u001b[39mOSError\u001b[39;00m \u001b[39mas\u001b[39;00m err:\n\u001b[1;32m---> 28\u001b[0m     \u001b[39mraise\u001b[39;00m \u001b[39mImportError\u001b[39;00m(\u001b[39m\"\u001b[39m\u001b[39mUnable to load OpenGL library\u001b[39m\u001b[39m\"\u001b[39m, \u001b[39m*\u001b[39merr\u001b[39m.\u001b[39margs)\n",
            "\u001b[1;31mImportError\u001b[0m: ('Unable to load OpenGL library', \"Could not find module 'OSMesa' (or one of its dependencies). Try using the full path with constructor syntax.\", 'OSMesa', None)"
          ]
        }
      ],
      "source": [
        "agent.render(num_episodes=1, render_mode='rgb_array', width=256, height=256)"
      ]
    },
    {
      "cell_type": "markdown",
      "metadata": {
        "id": "NyEhctNbt2Qx"
      },
      "source": [
        "Try playing the video by inputting the provided file path above!"
      ]
    },
    {
      "cell_type": "code",
      "execution_count": null,
      "metadata": {
        "id": "0cTAss1RuFYn"
      },
      "outputs": [],
      "source": [
        "import base64\n",
        "from pathlib import Path\n",
        "\n",
        "from IPython import display as ipythondisplay\n",
        "\n",
        "\n",
        "def show_videos(video_path='', prefix=''):\n",
        "    \"\"\"\n",
        "    Taken from https://github.com/eleurent/highway-env\n",
        "\n",
        "    :param video_path: (str) Path to the folder containing videos\n",
        "    :param prefix: (str) Filter the video, showing only the only starting with this prefix\n",
        "    \"\"\"\n",
        "    html = []\n",
        "    for mp4 in Path(video_path).glob(\"{}*.mp4\".format(prefix)):\n",
        "        video_b64 = base64.b64encode(mp4.read_bytes())\n",
        "        html.append(\n",
        "            '''<video alt=\"{}\" autoplay\n",
        "                    loop controls style=\"height: 400px;\">\n",
        "                    <source src=\"data:video/mp4;base64,{}\" type=\"video/mp4\" />\n",
        "                </video>'''.format(\n",
        "                mp4, video_b64.decode('ascii')\n",
        "            )\n",
        "        )\n",
        "    ipythondisplay.display(ipythondisplay.HTML(data=\"<br>\".join(html)))\n",
        "\n",
        "\n",
        "# Please fill the path of folder containing your video which is shown above here\n",
        "show_videos(video_path='')"
      ]
    },
    {
      "cell_type": "markdown",
      "metadata": {
        "id": "muSYZV_-DCLW"
      },
      "source": [
        "Alternatively, you may simply wish to observe how the converged policy performs numerically during testing."
      ]
    },
    {
      "cell_type": "code",
      "execution_count": null,
      "metadata": {
        "id": "rMD6j5sADOaz"
      },
      "outputs": [],
      "source": [
        "agent.evaluate(num_episodes=1)"
      ]
    },
    {
      "cell_type": "markdown",
      "metadata": {
        "id": "yqQmc_ODDY5T"
      },
      "source": [
        "We aim to provide abundant information so that you can gain new insights. Through the aforementioned approach, you can gain a multidimensional understanding of this experiment."
      ]
    },
    {
      "cell_type": "markdown",
      "metadata": {
        "id": "TrBRWG9c-2Dw"
      },
      "source": [
        "\n",
        "\n",
        "Certainly, you can also analyze the saved policies from the past. Hey! Try pasting the saved policy path above and running the following script, which is the most common usage of Evaluator. It visualizes all models under the specified experiment path in the given manner. Generally, **this code is more flexible and useful on your personal server than in Colab**.\n",
        "\n",
        "By modifying the code, you can visualize model files under any path. Several crucial parameters are essential to understand for visualization.\n",
        "\n",
        "`render_mode`: This parameter specifies the display mode during visualization, which typically includes `rgb_array`, `depth_array`, `human`. You may encounter difficulties when specifying them on a server without a display, so please refer to [issue72](https://github.com/PKU-Alignment/omnisafe/issues/72) and [issue27](https://github.com/PKU-Alignment/omnisafe/issues/27).\n",
        "\n",
        "`camera_name`: Its value depends on the design of the environment library. In Safety-Gymnasium, it supports [these](https://www.safety-gymnasium.com/en/latest/api/builder.html#safety_gymnasium.builder.Builder.__init__).\n",
        "\n",
        "`width, height`: These two parameters are used to specify the image resolution. The larger the numerical value, the higher the image quality, and the greater the demand for hardware resources. We suggest you try different values according to your hardware resources and choose the one that meets your needs."
      ]
    },
    {
      "cell_type": "code",
      "execution_count": null,
      "metadata": {
        "id": "vaVHC5WK-1CT"
      },
      "outputs": [],
      "source": [
        "# Single Python File\n",
        "import os\n",
        "import omnisafe\n",
        "\n",
        "# Just fill your experiment's log directory in here.\n",
        "# Such as: ~/omnisafe/examples/runs/PPOLag-{SafetyPointGoal1-v0}/seed-000-2023-03-07-20-25-48\n",
        "LOG_DIR = './runs/PPOLag-{SafetyPointGoal1-v0}/seed-000-2023-04-01-02-44-35'\n",
        "evaluator = omnisafe.Evaluator(render_mode='rgb_array')\n",
        "for item in os.scandir(os.path.join(LOG_DIR, 'torch_save')):\n",
        "    if item.is_file() and item.name.split('.')[-1] == 'pt':\n",
        "        evaluator.load_saved(\n",
        "            save_dir=LOG_DIR, model_name=item.name, camera_name='track', width=256, height=256\n",
        "        )\n",
        "        evaluator.render(num_episodes=1)\n",
        "        evaluator.evaluate(num_episodes=1)"
      ]
    },
    {
      "cell_type": "markdown",
      "metadata": {
        "id": "3Gl1f0kgG8ea"
      },
      "source": [
        "### Benchmark your research\n",
        "During the research process, running a large number of experiments is often a laborious and error-prone task. To allow researchers to focus on valuable work, OmniSafe provides the experiment grid module. With it, you can quickly and reliably run a large number of experiments by providing all the possible parameter values of interest. This module is incredibly convenient, whether you're creating baselines for your algorithm or tuning parameters.\n",
        "\n",
        "\n",
        "\n"
      ]
    },
    {
      "cell_type": "markdown",
      "metadata": {
        "id": "gWxhptNhIsy6"
      },
      "source": [
        "From an implementation perspective, you can simply understand it as:\n",
        "\n",
        "1. Generating all feasible combinations of parameters.\n",
        "2. Using Python's multiprocessing tool to execute the same function with different parameters simultaneously, according to the specified parallelism.\n",
        "\n",
        "Therefore, you need to define a function that needs to be executed through `experiment_grid`. We have already done this for you, and you can simply copy our [example](https://github.com/PKU-Alignment/omnisafe/tree/main/examples), or you can refer to the examples on GitHub, which contain code examples for almost all the content discussed in this section.\n",
        "\n",
        "**Note**: You don't need to pay attention to the implementation details of this code, and only need to modify it when you have highly customized requirements.\n",
        "\n",
        "\n",
        "\n",
        "\n",
        "\n"
      ]
    },
    {
      "cell_type": "code",
      "execution_count": null,
      "metadata": {
        "id": "o4ZijAqvIWMK"
      },
      "outputs": [],
      "source": [
        "\"\"\"Example of training a policy from exp-x config with OmniSafe.\"\"\"\n",
        "\n",
        "import os\n",
        "import sys\n",
        "import warnings\n",
        "\n",
        "import torch\n",
        "\n",
        "import omnisafe\n",
        "from omnisafe.common.experiment_grid import ExperimentGrid\n",
        "from omnisafe.typing import NamedTuple, Tuple\n",
        "\n",
        "\n",
        "def train(\n",
        "    exp_id: str, algo: str, env_id: str, custom_cfgs: NamedTuple\n",
        ") -> Tuple[float, float, float]:\n",
        "    \"\"\"Train a policy from exp-x config with OmniSafe.\n",
        "\n",
        "    Args:\n",
        "        exp_id (str): Experiment ID.\n",
        "        algo (str): Algorithm to train.\n",
        "        env_id (str): The name of test environment.\n",
        "        custom_cfgs (NamedTuple): Custom configurations.\n",
        "        num_threads (int, optional): Number of threads. Defaults to 6.\n",
        "    \"\"\"\n",
        "    terminal_log_name = 'terminal.log'\n",
        "    error_log_name = 'error.log'\n",
        "    if 'seed' in custom_cfgs:\n",
        "        terminal_log_name = f'seed{custom_cfgs[\"seed\"]}_{terminal_log_name}'\n",
        "        error_log_name = f'seed{custom_cfgs[\"seed\"]}_{error_log_name}'\n",
        "    sys.stdout = sys.__stdout__\n",
        "    sys.stderr = sys.__stderr__\n",
        "    print(f'exp-x: {exp_id} is training...')\n",
        "    if not os.path.exists(custom_cfgs['logger_cfgs']['log_dir']):\n",
        "        os.makedirs(custom_cfgs['logger_cfgs']['log_dir'], exist_ok=True)\n",
        "    # pylint: disable-next=consider-using-with\n",
        "    sys.stdout = open(\n",
        "        os.path.join(f'{custom_cfgs[\"logger_cfgs\"][\"log_dir\"]}', terminal_log_name),\n",
        "        'w',\n",
        "        encoding='utf-8',\n",
        "    )\n",
        "    # pylint: disable-next=consider-using-with\n",
        "    sys.stderr = open(\n",
        "        os.path.join(f'{custom_cfgs[\"logger_cfgs\"][\"log_dir\"]}', error_log_name),\n",
        "        'w',\n",
        "        encoding='utf-8',\n",
        "    )\n",
        "    agent = omnisafe.Agent(algo, env_id, custom_cfgs=custom_cfgs)\n",
        "    reward, cost, ep_len = agent.learn()\n",
        "    return reward, cost, ep_len"
      ]
    },
    {
      "cell_type": "markdown",
      "metadata": {
        "id": "QUX4saAoJoiR"
      },
      "source": [
        "\n",
        "Continuing, you can create an instance of the `experiment grid` and call `eg.add` to specify your parameters. For multiple parameters, please store them in a list.\n",
        "\n",
        "**Note**: whether to call it `eg` depends on the variable name you specify for the `experiment grid` instance."
      ]
    },
    {
      "cell_type": "code",
      "execution_count": null,
      "metadata": {
        "id": "t1f4lMz6JtK2"
      },
      "outputs": [],
      "source": [
        "eg = ExperimentGrid(exp_name='Tutorial_benchmark')\n",
        "\n",
        "# Set the algorithms.\n",
        "base_policy = ['PolicyGradient', 'NaturalPG', 'TRPO', 'PPO']\n",
        "\n",
        "# Set the environments.\n",
        "mujoco_envs = [\n",
        "    'SafetyAntVelocity-v1',\n",
        "    'SafetyHopperVelocity-v1',\n",
        "    'SafetyHumanoidVelocity-v1',\n",
        "]\n",
        "eg.add('env_id', mujoco_envs)\n",
        "eg.add('algo', base_policy)\n",
        "eg.add('logger_cfgs:use_wandb', [False])\n",
        "eg.add('train_cfgs:vector_env_nums', [1])\n",
        "eg.add('train_cfgs:torch_threads', [1])\n",
        "eg.add('train_cfgs:total_steps', [2048])\n",
        "eg.add('algo_cfgs:steps_per_epoch', [1024])\n",
        "eg.add('seed', [0])"
      ]
    },
    {
      "cell_type": "markdown",
      "metadata": {
        "id": "nYVD1pL1LK96"
      },
      "source": [
        "CUDA is a powerful acceleration tool for machine learning, and we provide support for it as well. You can evenly distribute your experiments among multiple GPUs for execution. Here is an example to illustrate this. (As Colab does not support it, we have commented out the code. You may try to use it on your own machine.)"
      ]
    },
    {
      "cell_type": "code",
      "execution_count": null,
      "metadata": {
        "id": "Om1yCcDgLYVX"
      },
      "outputs": [],
      "source": [
        "# # Set the device.\n",
        "# avaliable_gpus = [num for num in range(torch.cuda.device_count())]\n",
        "# gpu_id = [0, 1, 2, 3]\n",
        "# # if you want to use CPU, please set gpu_id = None\n",
        "# # gpu_id = None\n",
        "\n",
        "# if set(gpu_id) > set(avaliable_gpus):\n",
        "#     warnings.warn('The GPU ID is not available, use CPU instead.')\n",
        "#     gpu_id = None"
      ]
    },
    {
      "cell_type": "markdown",
      "metadata": {
        "id": "I8f2t0PZLfOK"
      },
      "source": [
        "Next, you can specify the number of processes to run in parallel and make full use of your machine's capabilities!\n",
        "\n",
        "One important point to note is that we recommend setting the value of `num_pool` to a number that can evenly divide the total number of tasks. This ensures that your computer's workload is evenly distributed at all times, maximizing its computing power."
      ]
    },
    {
      "cell_type": "code",
      "execution_count": null,
      "metadata": {
        "id": "VvinJv_3Lnv8"
      },
      "outputs": [],
      "source": [
        "# total experiment num must can be divided by num_pool\n",
        "# meanwhile, users should decide this value according to their machine\n",
        "eg.run(train, num_pool=12)"
      ]
    },
    {
      "cell_type": "markdown",
      "metadata": {
        "id": "PfexgqIIMBz9"
      },
      "source": [
        "If you are using CUDA, the calling method will be slightly different, as you need to pass in `gpu_id`."
      ]
    },
    {
      "cell_type": "code",
      "execution_count": null,
      "metadata": {
        "id": "Gf5o7vx6MFd5"
      },
      "outputs": [],
      "source": [
        "# eg.run(train, num_pool=12, gpu_id=gpu_id)"
      ]
    },
    {
      "cell_type": "markdown",
      "metadata": {
        "id": "Jcx0SRyQKm51"
      },
      "source": [
        "\n",
        "Once the training is complete, you can use various data analysis tools mentioned earlier to analyze the experimental results from different perspectives. These tools are independent modules that can be called either simultaneously during training or separately after training. We will explain in detail how to **use and combine** these modules flexibly in later sections.\n",
        "\n",
        "In the following code block, you can specify a parameter and analyze the impact of its different values on performance.\n",
        "\n",
        "`parameter`: specifies the parameter whose impact needs to be analyzed.\n",
        "\n",
        "`values`: specifies several values that need to be displayed on the same graph for comparison.\n",
        "\n",
        "`compare_num`: specifies the maximum number of values to be displayed on the same graph for comparison.\n",
        "\n",
        "`cost_limit`: specifies the cost threshold to be plotted on the graph.\n",
        "\n",
        "**Note**: `values` and `compare_num` are conflicting parameters and cannot be specified simultaneously. If both are set to None, `compare_num` will default to the maximum feasible value.\n",
        "\n",
        "Here are two possible ways to use this functionality:"
      ]
    },
    {
      "cell_type": "markdown",
      "metadata": {
        "id": "Ii2gOSASOYtH"
      },
      "source": [
        "1. Analyzing specified parameter values.\n",
        "\n",
        "We have completed our benchmark on three different environments, and now we want to compare the performance of PPO and PolicyGradient on these environments."
      ]
    },
    {
      "cell_type": "code",
      "execution_count": null,
      "metadata": {
        "id": "lOOQkviDKovM"
      },
      "outputs": [],
      "source": [
        "# just fill in the name of the parameter of which value you want to compare.\n",
        "# then you can specify the value of the parameter you want to compare,\n",
        "# or you can just specify how many values you want to compare in single graph at most,\n",
        "# and the function will automatically generate all possible combinations of the graph.\n",
        "# but the two mode can not be used at the same time.\n",
        "eg.analyze(parameter='algo', values=['PPO', 'PolicyGradient'], compare_num=None, cost_limit=None)"
      ]
    },
    {
      "cell_type": "markdown",
      "metadata": {
        "id": "__2JC1gCO4iY"
      },
      "source": [
        "2. Comparing all possible scenarios to find the best algorithm.\n",
        "\n",
        "After a hard day's work, we don't want to look at confusing graphs. So let's give our brains a break. You can ask OmniSafe to generate all possible graphs containing up to three algorithms on a single image. OmniSafe will automatically generate all possible graphs with three algorithms in your current experiment"
      ]
    },
    {
      "cell_type": "code",
      "execution_count": null,
      "metadata": {
        "id": "2u22rNv7M4HP"
      },
      "outputs": [],
      "source": [
        "eg.analyze(parameter='algo', values=None, compare_num=3, cost_limit=None)"
      ]
    },
    {
      "cell_type": "markdown",
      "metadata": {
        "id": "u-Tsi7S8QS2t"
      },
      "source": [
        "Of course, as before, you can also visualize all models. Leave all the tedious work to OmniSafe and just review the final results.\n",
        "\n"
      ]
    },
    {
      "cell_type": "code",
      "execution_count": null,
      "metadata": {
        "id": "K6bHQYqfQdXY"
      },
      "outputs": [],
      "source": [
        "eg.render(num_episodes=1, render_mode='rgb_array', width=256, height=256)\n",
        "eg.evaluate(num_episodes=1)"
      ]
    },
    {
      "cell_type": "markdown",
      "metadata": {
        "id": "CeEEKZWtSVdH"
      },
      "source": [
        "Certainly, you can also use Python code to analyze past experiments using this tool. Here's a simple example:"
      ]
    },
    {
      "cell_type": "code",
      "execution_count": null,
      "metadata": {
        "id": "AL36B-XySdw2"
      },
      "outputs": [],
      "source": [
        "# Single Python File\n",
        "from omnisafe.common.statistics_tools import StatisticsTools\n",
        "\n",
        "\n",
        "# just fill in the path in which experiment grid runs.\n",
        "path = ''\n",
        "st = StatisticsTools()\n",
        "st.load_source(path)\n",
        "# just fill in the name of the parameter of which value you want to compare.\n",
        "# then you can specify the value of the parameter you want to compare,\n",
        "# or you can just specify how many values you want to compare in single graph at most,\n",
        "# and the function will automatically generate all possible combinations of the graph.\n",
        "# but the two mode can not be used at the same time.\n",
        "st.draw_graph(parameter='', values=None, compare_num=2, cost_limit=None, show_image=True)"
      ]
    },
    {
      "cell_type": "markdown",
      "metadata": {
        "id": "do9X-8qrTDSG"
      },
      "source": [
        "After reviewing the above example and explanation, you have acquired the fundamental usage of OmniSafe. In the following section, we will introduce you to the **CLI** tool in OmniSafe."
      ]
    }
  ],
  "metadata": {
    "colab": {
      "provenance": []
    },
    "kernelspec": {
      "display_name": "Python 3",
      "name": "python3"
    },
    "language_info": {
      "codemirror_mode": {
        "name": "ipython",
        "version": 3
      },
      "file_extension": ".py",
      "mimetype": "text/x-python",
      "name": "python",
      "nbconvert_exporter": "python",
      "pygments_lexer": "ipython3",
      "version": "3.10.4"
    }
  },
  "nbformat": 4,
  "nbformat_minor": 0
}
